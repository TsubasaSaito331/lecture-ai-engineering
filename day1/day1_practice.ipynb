{
  "cells": [
    {
      "cell_type": "markdown",
      "metadata": {
        "id": "gSpnWBP5ELSI"
      },
      "source": [
        "# 実践演習 Day 1：streamlit と FastAPI のデモ\n",
        "\n",
        "このノートブックでは以下の内容を学習します。\n",
        "\n",
        "- 必要なライブラリのインストールと環境設定\n",
        "- Hugging Face からモデルを用いた Streamlit のデモアプリ\n",
        "- FastAPI と ngrok を使用した API の公開方法\n",
        "\n",
        "演習を始める前に、HuggingFace と ngrok のアカウントを作成し、\n",
        "それぞれの API トークンを取得する必要があります。\n",
        "\n",
        "演習の時間では、以下の 3 つのディレクトリを順に説明します。\n",
        "\n",
        "1. 01_streamlit_UI\n",
        "2. 02_streamlit_app\n",
        "3. 03_FastAPI\n",
        "\n",
        "2 つ目や 3 つ目からでも始められる様にノートブックを作成しています。\n",
        "\n",
        "復習の際にもこのノートブックを役立てていただければと思います。\n",
        "\n",
        "### 注意事項\n",
        "\n",
        "「02_streamlit_app」と「03_FastAPI」では、GPU を使用します。\n",
        "\n",
        "これらを実行する際は、Google Colab 画面上のメニューから「編集」→ 「ノートブックの設定」\n",
        "\n",
        "「ハードウェアアクセラレーター」の項目の中から、「T4 GPU」を選択してください。\n",
        "\n",
        "このノートブックのデフォルトは「CPU」になっています。\n",
        "\n",
        "---\n"
      ]
    },
    {
      "cell_type": "markdown",
      "metadata": {
        "id": "OhtHkJOgELSL"
      },
      "source": [
        "# 環境変数の設定（1~3 共有）\n"
      ]
    },
    {
      "cell_type": "markdown",
      "metadata": {
        "id": "Py1BFS5RqcSS"
      },
      "source": [
        "「.env」ファイルを読み込み、環境変数として設定します。次のセルを実行し、最終的に「True」が表示されていればうまく読み込めています。\n"
      ]
    },
    {
      "cell_type": "code",
      "execution_count": 1,
      "metadata": {
        "id": "bvEowFfg5lrq"
      },
      "outputs": [
        {
          "name": "stdout",
          "output_type": "stream",
          "text": [
            "/home/saito/workspace/lecture-ai-engineering/day1\n"
          ]
        },
        {
          "name": "stderr",
          "output_type": "stream",
          "text": [
            "/home/saito/.pyenv/versions/3.12.0/lib/python3.12/site-packages/IPython/core/magics/osm.py:393: UserWarning: This is now an optional IPython functionality, using bookmarks requires you to install the `pickleshare` library.\n",
            "  bkms = self.shell.db.get('bookmarks', {})\n",
            "/home/saito/.pyenv/versions/3.12.0/lib/python3.12/site-packages/IPython/core/magics/osm.py:417: UserWarning: This is now an optional IPython functionality, setting dhist requires you to install the `pickleshare` library.\n",
            "  self.shell.db['dhist'] = compress_dhist(dhist)[-100:]\n"
          ]
        },
        {
          "data": {
            "text/plain": [
              "True"
            ]
          },
          "execution_count": 1,
          "metadata": {},
          "output_type": "execute_result"
        }
      ],
      "source": [
        "from dotenv import load_dotenv, find_dotenv\n",
        "\n",
        "%cd ~/workspace/lecture-ai-engineering/day1\n",
        "load_dotenv(find_dotenv())"
      ]
    },
    {
      "cell_type": "markdown",
      "metadata": {
        "id": "os0Yk6gaELSM"
      },
      "source": [
        "# 01_streamlit_UI\n",
        "\n",
        "ディレクトリ「01_streamlit_UI」に移動します。\n"
      ]
    },
    {
      "cell_type": "code",
      "execution_count": 3,
      "metadata": {
        "id": "S28XgOm0ELSM"
      },
      "outputs": [
        {
          "name": "stdout",
          "output_type": "stream",
          "text": [
            "/home/saito/workspace/lecture-ai-engineering/day1/01_streamlit_UI\n"
          ]
        },
        {
          "name": "stderr",
          "output_type": "stream",
          "text": [
            "/home/saito/.pyenv/versions/3.12.0/lib/python3.12/site-packages/IPython/core/magics/osm.py:417: UserWarning: This is now an optional IPython functionality, setting dhist requires you to install the `pickleshare` library.\n",
            "  self.shell.db['dhist'] = compress_dhist(dhist)[-100:]\n"
          ]
        }
      ],
      "source": [
        "%cd 01_streamlit_UI"
      ]
    },
    {
      "cell_type": "markdown",
      "metadata": {
        "id": "eVp-aEIkELSM"
      },
      "source": [
        "必要なライブラリをインストールします。\n"
      ]
    },
    {
      "cell_type": "code",
      "execution_count": 4,
      "metadata": {
        "id": "nBe41LFiELSN"
      },
      "outputs": [],
      "source": [
        "%%capture\n",
        "!pip install -r requirements.txt"
      ]
    },
    {
      "cell_type": "markdown",
      "metadata": {
        "id": "Yyw6VHaTELSN"
      },
      "source": [
        "ngrok のトークンを使用して、認証を行います。\n"
      ]
    },
    {
      "cell_type": "code",
      "execution_count": 5,
      "metadata": {
        "id": "aYw1q0iXELSN"
      },
      "outputs": [
        {
          "name": "stdout",
          "output_type": "stream",
          "text": [
            "Authtoken saved to configuration file: /home/saito/.config/ngrok/ngrok.yml                          \n"
          ]
        }
      ],
      "source": [
        "!ngrok authtoken $$NGROK_TOKEN"
      ]
    },
    {
      "cell_type": "markdown",
      "metadata": {
        "id": "RssTcD_IELSN"
      },
      "source": [
        "アプリを起動します。\n"
      ]
    },
    {
      "cell_type": "code",
      "execution_count": 6,
      "metadata": {
        "id": "f-E7ucR6ELSN"
      },
      "outputs": [
        {
          "name": "stdout",
          "output_type": "stream",
          "text": [
            "公開URL: https://bfdd-133-15-57-27.ngrok-free.app\n",
            "\n",
            "Collecting usage statistics. To deactivate, set browser.gatherUsageStats to false.\n",
            "\u001b[0m\n",
            "\u001b[0m\n",
            "\u001b[34m\u001b[1m  You can now view your Streamlit app in your browser.\u001b[0m\n",
            "\u001b[0m\n",
            "\u001b[34m  Local URL: \u001b[0m\u001b[1mhttp://localhost:8501\u001b[0m\n",
            "\u001b[34m  Network URL: \u001b[0m\u001b[1mhttp://133.15.57.27:8501\u001b[0m\n",
            "\u001b[34m  External URL: \u001b[0m\u001b[1mhttp://133.15.57.27:8501\u001b[0m\n",
            "\u001b[0m\n",
            "^C\n",
            "\u001b[34m  Stopping...\u001b[0m\n"
          ]
        },
        {
          "name": "stderr",
          "output_type": "stream",
          "text": [
            "t=2025-04-23T18:21:27+0900 lvl=warn msg=\"failed to open private leg\" id=e2e7299a8f4f privaddr=localhost:8501 err=\"dial tcp 127.0.0.1:8501: connect: connection refused\"\n",
            "t=2025-04-23T18:21:27+0900 lvl=warn msg=\"failed to open private leg\" id=3e81fbad28fb privaddr=localhost:8501 err=\"dial tcp 127.0.0.1:8501: connect: connection refused\"\n",
            "t=2025-04-23T18:21:29+0900 lvl=warn msg=\"failed to open private leg\" id=5556051f660c privaddr=localhost:8501 err=\"dial tcp 127.0.0.1:8501: connect: connection refused\"\n",
            "t=2025-04-23T18:21:29+0900 lvl=warn msg=\"failed to open private leg\" id=b8d10844083d privaddr=localhost:8501 err=\"dial tcp 127.0.0.1:8501: connect: connection refused\"\n",
            "t=2025-04-23T18:21:30+0900 lvl=warn msg=\"failed to open private leg\" id=d3b9ad8e15b6 privaddr=localhost:8501 err=\"dial tcp 127.0.0.1:8501: connect: connection refused\"\n",
            "t=2025-04-23T18:21:30+0900 lvl=warn msg=\"failed to open private leg\" id=5b713f7b2a90 privaddr=localhost:8501 err=\"dial tcp 127.0.0.1:8501: connect: connection refused\"\n",
            "t=2025-04-23T18:21:33+0900 lvl=warn msg=\"failed to open private leg\" id=9cb2283d73da privaddr=localhost:8501 err=\"dial tcp 127.0.0.1:8501: connect: connection refused\"\n",
            "t=2025-04-23T18:21:33+0900 lvl=warn msg=\"failed to open private leg\" id=641ab701f127 privaddr=localhost:8501 err=\"dial tcp 127.0.0.1:8501: connect: connection refused\"\n"
          ]
        }
      ],
      "source": [
        "from pyngrok import ngrok\n",
        "\n",
        "public_url = ngrok.connect(8501).public_url\n",
        "print(f\"公開URL: {public_url}\")\n",
        "!streamlit run app.py"
      ]
    },
    {
      "cell_type": "markdown",
      "metadata": {
        "id": "kbYyXVFjELSN"
      },
      "source": [
        "公開 URL の後に記載されている URL にブラウザでアクセスすると、streamlit の UI が表示されます。\n",
        "\n",
        "app.py のコメントアウトされている箇所を編集することで、UI がどの様に変化するか確認してみましょう。\n",
        "\n",
        "streamlit の公式ページには、ギャラリーページがあります。\n",
        "\n",
        "streamlit を使うと python という一つの言語であっても、様々な UI を実現できることがわかると思います。\n",
        "\n",
        "https://streamlit.io/gallery\n"
      ]
    },
    {
      "cell_type": "markdown",
      "metadata": {
        "id": "MmtP5GLOELSN"
      },
      "source": [
        "後片付けとして、使う必要のない ngrok のトンネルを削除します。\n"
      ]
    },
    {
      "cell_type": "code",
      "execution_count": 7,
      "metadata": {
        "id": "8Ek9QgahELSO"
      },
      "outputs": [],
      "source": [
        "from pyngrok import ngrok\n",
        "\n",
        "ngrok.kill()"
      ]
    },
    {
      "cell_type": "markdown",
      "metadata": {},
      "source": [
        "# 02_streamlit_app\n"
      ]
    },
    {
      "cell_type": "markdown",
      "metadata": {
        "id": "QqogFQKnELSO"
      },
      "source": [
        "ディレクトリ「02_streamlit_app」に移動します。\n"
      ]
    },
    {
      "cell_type": "code",
      "execution_count": 2,
      "metadata": {
        "id": "UeEjlJ7uELSO"
      },
      "outputs": [
        {
          "name": "stdout",
          "output_type": "stream",
          "text": [
            "/home/saito/workspace/lecture-ai-engineering/day1/02_streamlit_app\n"
          ]
        }
      ],
      "source": [
        "%cd ~/workspace/lecture-ai-engineering/day1/02_streamlit_app"
      ]
    },
    {
      "cell_type": "markdown",
      "metadata": {
        "id": "ZO31umGZELSO"
      },
      "source": [
        "ngrok と huggigface のトークンを使用して、認証を行います。\n"
      ]
    },
    {
      "cell_type": "code",
      "execution_count": 3,
      "metadata": {
        "id": "jPxTiEWQELSO"
      },
      "outputs": [
        {
          "name": "stdout",
          "output_type": "stream",
          "text": [
            "Authtoken saved to configuration file: /home/saito/.config/ngrok/ngrok.yml\n",
            "The token has not been saved to the git credentials helper. Pass `add_to_git_credential=True` in this function directly or `--add-to-git-credential` if using via `huggingface-cli` if you want to set the git credential as well.\n",
            "Token is valid (permission: fineGrained).\n",
            "Your token has been saved to /home/saito/.cache/huggingface/token\n",
            "Login successful\n"
          ]
        }
      ],
      "source": [
        "!ngrok authtoken $$NGROK_TOKEN\n",
        "!huggingface-cli login --token $$HUGGINGFACE_TOKEN"
      ]
    },
    {
      "cell_type": "markdown",
      "metadata": {
        "id": "dz4WrELLELSP"
      },
      "source": [
        "stramlit で Huggingface のトークン情報を扱うために、streamlit 用の設定ファイル（.streamlit）を作成し、トークンの情報を格納します。\n"
      ]
    },
    {
      "cell_type": "code",
      "execution_count": 4,
      "metadata": {
        "id": "W184-a7qFP0W"
      },
      "outputs": [],
      "source": [
        "# .streamlit/secrets.toml ファイルを作成\n",
        "import os\n",
        "import toml\n",
        "\n",
        "# 設定ファイルのディレクトリ確保\n",
        "os.makedirs(\".streamlit\", exist_ok=True)\n",
        "\n",
        "# 環境変数から取得したトークンを設定ファイルに書き込む\n",
        "secrets = {\"huggingface\": {\"token\": os.environ.get(\"HUGGINGFACE_TOKEN\", \"\")}}\n",
        "\n",
        "# 設定ファイルを書き込む\n",
        "with open(\".streamlit/secrets.toml\", \"w\") as f:\n",
        "    toml.dump(secrets, f)"
      ]
    },
    {
      "cell_type": "markdown",
      "metadata": {
        "id": "fK0vI_xKELSP"
      },
      "source": [
        "アプリを起動します。\n",
        "\n",
        "02_streamlit_app では、Huggingface からモデルをダウンロードするため、初回起動には 2 分程度時間がかかります。\n",
        "\n",
        "この待ち時間を利用して、app.py のコードを確認してみましょう。\n"
      ]
    },
    {
      "cell_type": "code",
      "execution_count": 8,
      "metadata": {
        "id": "TBQyTTWTELSP"
      },
      "outputs": [
        {
          "name": "stdout",
          "output_type": "stream",
          "text": [
            "公開URL: https://6097-133-15-57-27.ngrok-free.app\n",
            "\n",
            "Collecting usage statistics. To deactivate, set browser.gatherUsageStats to false.\n",
            "\u001b[0m\n",
            "\u001b[0m\n",
            "\u001b[34m\u001b[1m  You can now view your Streamlit app in your browser.\u001b[0m\n",
            "\u001b[0m\n",
            "\u001b[34m  Local URL: \u001b[0m\u001b[1mhttp://localhost:8501\u001b[0m\n",
            "\u001b[34m  Network URL: \u001b[0m\u001b[1mhttp://133.15.57.27:8501\u001b[0m\n",
            "\u001b[34m  External URL: \u001b[0m\u001b[1mhttp://133.15.57.27:8501\u001b[0m\n",
            "\u001b[0m\n",
            "NLTK loaded successfully.\n",
            "[2025-04-23 18:43:37,255] [INFO] [real_accelerator.py:203:get_accelerator] Setting ds_accelerator to cuda (auto detect)\n",
            "\u001b[93m [WARNING] \u001b[0m async_io requires the dev libaio .so object and headers but these were not found.\n",
            "\u001b[93m [WARNING] \u001b[0m async_io: please install the libaio-dev package with apt\n",
            "\u001b[93m [WARNING] \u001b[0m If libaio is already installed (perhaps from source), try setting the CFLAGS and LDFLAGS environment variables to where it can be found.\n",
            "\u001b[93m [WARNING] \u001b[0m Please specify the CUTLASS repo directory as environment variable $CUTLASS_PATH\n",
            "2025-04-23 18:43:38.104 Uncaught app execution\n",
            "Traceback (most recent call last):\n",
            "  File \"/home/saito/.pyenv/versions/3.12.0/lib/python3.12/site-packages/transformers/utils/import_utils.py\", line 1967, in _get_module\n",
            "    return importlib.import_module(\".\" + module_name, self.__name__)\n",
            "           ^^^^^^^^^^^^^^^^^^^^^^^^^^^^^^^^^^^^^^^^^^^^^^^^^^^^^^^^^\n",
            "  File \"/home/saito/.pyenv/versions/3.12.0/lib/python3.12/importlib/__init__.py\", line 90, in import_module\n",
            "    return _bootstrap._gcd_import(name[level:], package, level)\n",
            "           ^^^^^^^^^^^^^^^^^^^^^^^^^^^^^^^^^^^^^^^^^^^^^^^^^^^^\n",
            "  File \"<frozen importlib._bootstrap>\", line 1381, in _gcd_import\n",
            "  File \"<frozen importlib._bootstrap>\", line 1354, in _find_and_load\n",
            "  File \"<frozen importlib._bootstrap>\", line 1325, in _find_and_load_unlocked\n",
            "  File \"<frozen importlib._bootstrap>\", line 929, in _load_unlocked\n",
            "  File \"<frozen importlib._bootstrap_external>\", line 994, in exec_module\n",
            "  File \"<frozen importlib._bootstrap>\", line 488, in _call_with_frames_removed\n",
            "  File \"/home/saito/.pyenv/versions/3.12.0/lib/python3.12/site-packages/transformers/pipelines/__init__.py\", line 49, in <module>\n",
            "    from .audio_classification import AudioClassificationPipeline\n",
            "  File \"/home/saito/.pyenv/versions/3.12.0/lib/python3.12/site-packages/transformers/pipelines/audio_classification.py\", line 21, in <module>\n",
            "    from .base import Pipeline, build_pipeline_init_args\n",
            "  File \"/home/saito/.pyenv/versions/3.12.0/lib/python3.12/site-packages/transformers/pipelines/base.py\", line 69, in <module>\n",
            "    from ..modeling_utils import PreTrainedModel\n",
            "  File \"/home/saito/.pyenv/versions/3.12.0/lib/python3.12/site-packages/transformers/modeling_utils.py\", line 158, in <module>\n",
            "    import deepspeed\n",
            "  File \"/home/saito/.pyenv/versions/3.12.0/lib/python3.12/site-packages/deepspeed/__init__.py\", line 25, in <module>\n",
            "    from . import ops\n",
            "  File \"/home/saito/.pyenv/versions/3.12.0/lib/python3.12/site-packages/deepspeed/ops/__init__.py\", line 15, in <module>\n",
            "    from ..git_version_info import compatible_ops as __compatible_ops__\n",
            "  File \"/home/saito/.pyenv/versions/3.12.0/lib/python3.12/site-packages/deepspeed/git_version_info.py\", line 29, in <module>\n",
            "    op_compatible = builder.is_compatible()\n",
            "                    ^^^^^^^^^^^^^^^^^^^^^^^\n",
            "  File \"/home/saito/.pyenv/versions/3.12.0/lib/python3.12/site-packages/deepspeed/ops/op_builder/fp_quantizer.py\", line 29, in is_compatible\n",
            "    sys_cuda_major, _ = installed_cuda_version()\n",
            "                        ^^^^^^^^^^^^^^^^^^^^^^^^\n",
            "  File \"/home/saito/.pyenv/versions/3.12.0/lib/python3.12/site-packages/deepspeed/ops/op_builder/builder.py\", line 52, in installed_cuda_version\n",
            "    output = subprocess.check_output([cuda_home + \"/bin/nvcc\", \"-V\"], universal_newlines=True)\n",
            "             ^^^^^^^^^^^^^^^^^^^^^^^^^^^^^^^^^^^^^^^^^^^^^^^^^^^^^^^^^^^^^^^^^^^^^^^^^^^^^^^^^\n",
            "  File \"/home/saito/.pyenv/versions/3.12.0/lib/python3.12/subprocess.py\", line 466, in check_output\n",
            "    return run(*popenargs, stdout=PIPE, timeout=timeout, check=True,\n",
            "           ^^^^^^^^^^^^^^^^^^^^^^^^^^^^^^^^^^^^^^^^^^^^^^^^^^^^^^^^^\n",
            "  File \"/home/saito/.pyenv/versions/3.12.0/lib/python3.12/subprocess.py\", line 548, in run\n",
            "    with Popen(*popenargs, **kwargs) as process:\n",
            "         ^^^^^^^^^^^^^^^^^^^^^^^^^^^\n",
            "  File \"/home/saito/.pyenv/versions/3.12.0/lib/python3.12/subprocess.py\", line 1026, in __init__\n",
            "    self._execute_child(args, executable, preexec_fn, close_fds,\n",
            "  File \"/home/saito/.pyenv/versions/3.12.0/lib/python3.12/subprocess.py\", line 1950, in _execute_child\n",
            "    raise child_exception_type(errno_num, err_msg, err_filename)\n",
            "NotADirectoryError: [Errno 20] Not a directory: '/usr/local/cuda-12.5/bin/nvcc/bin/nvcc'\n",
            "\n",
            "The above exception was the direct cause of the following exception:\n",
            "\n",
            "Traceback (most recent call last):\n",
            "  File \"/home/saito/.pyenv/versions/3.12.0/lib/python3.12/site-packages/streamlit/runtime/scriptrunner/exec_code.py\", line 121, in exec_func_with_error_handling\n",
            "    result = func()\n",
            "             ^^^^^^\n",
            "  File \"/home/saito/.pyenv/versions/3.12.0/lib/python3.12/site-packages/streamlit/runtime/scriptrunner/script_runner.py\", line 640, in code_to_exec\n",
            "    exec(code, module.__dict__)\n",
            "  File \"/home/saito/workspace/lecture-ai-engineering/day1/02_streamlit_app/app.py\", line 3, in <module>\n",
            "    import ui                   # UIモジュール\n",
            "    ^^^^^^^^^\n",
            "  File \"/home/saito/workspace/lecture-ai-engineering/day1/02_streamlit_app/ui.py\", line 6, in <module>\n",
            "    from llm import generate_response\n",
            "  File \"/home/saito/workspace/lecture-ai-engineering/day1/02_streamlit_app/llm.py\", line 4, in <module>\n",
            "    from transformers import pipeline\n",
            "  File \"<frozen importlib._bootstrap>\", line 1406, in _handle_fromlist\n",
            "  File \"/home/saito/.pyenv/versions/3.12.0/lib/python3.12/site-packages/transformers/utils/import_utils.py\", line 1955, in __getattr__\n",
            "    module = self._get_module(self._class_to_module[name])\n",
            "             ^^^^^^^^^^^^^^^^^^^^^^^^^^^^^^^^^^^^^^^^^^^^^\n",
            "  File \"/home/saito/.pyenv/versions/3.12.0/lib/python3.12/site-packages/transformers/utils/import_utils.py\", line 1969, in _get_module\n",
            "    raise RuntimeError(\n",
            "RuntimeError: Failed to import transformers.pipelines because of the following error (look up to see its traceback):\n",
            "[Errno 20] Not a directory: '/usr/local/cuda-12.5/bin/nvcc/bin/nvcc'\n",
            "2025-04-23 18:43:38.427 Examining the path of torch.classes raised:\n",
            "Traceback (most recent call last):\n",
            "  File \"/home/saito/.pyenv/versions/3.12.0/lib/python3.12/site-packages/streamlit/web/bootstrap.py\", line 347, in run\n",
            "    if asyncio.get_running_loop().is_running():\n",
            "       ^^^^^^^^^^^^^^^^^^^^^^^^^^\n",
            "RuntimeError: no running event loop\n",
            "\n",
            "During handling of the above exception, another exception occurred:\n",
            "\n",
            "Traceback (most recent call last):\n",
            "  File \"/home/saito/.pyenv/versions/3.12.0/lib/python3.12/site-packages/streamlit/watcher/local_sources_watcher.py\", line 217, in get_module_paths\n",
            "    potential_paths = extract_paths(module)\n",
            "                      ^^^^^^^^^^^^^^^^^^^^^\n",
            "  File \"/home/saito/.pyenv/versions/3.12.0/lib/python3.12/site-packages/streamlit/watcher/local_sources_watcher.py\", line 210, in <lambda>\n",
            "    lambda m: list(m.__path__._path),\n",
            "                   ^^^^^^^^^^^^^^^^\n",
            "  File \"/home/saito/.pyenv/versions/3.12.0/lib/python3.12/site-packages/torch/_classes.py\", line 13, in __getattr__\n",
            "    proxy = torch._C._get_custom_class_python_wrapper(self.name, attr)\n",
            "            ^^^^^^^^^^^^^^^^^^^^^^^^^^^^^^^^^^^^^^^^^^^^^^^^^^^^^^^^^^\n",
            "RuntimeError: Tried to instantiate class '__path__._path', but it does not exist! Ensure that it is registered via torch::class_\n",
            "^C\n",
            "\u001b[34m  Stopping...\u001b[0m\n"
          ]
        },
        {
          "name": "stderr",
          "output_type": "stream",
          "text": [
            "t=2025-04-23T18:44:50+0900 lvl=warn msg=\"failed to open private leg\" id=f11f522119d2 privaddr=localhost:8501 err=\"dial tcp 127.0.0.1:8501: connect: connection refused\"\n",
            "t=2025-04-23T18:44:50+0900 lvl=warn msg=\"failed to open private leg\" id=d9b0ee789769 privaddr=localhost:8501 err=\"dial tcp 127.0.0.1:8501: connect: connection refused\"\n",
            "t=2025-04-23T18:44:52+0900 lvl=warn msg=\"failed to open private leg\" id=5a5530051dac privaddr=localhost:8501 err=\"dial tcp 127.0.0.1:8501: connect: connection refused\"\n",
            "t=2025-04-23T18:44:52+0900 lvl=warn msg=\"failed to open private leg\" id=dbf338f3f6ef privaddr=localhost:8501 err=\"dial tcp 127.0.0.1:8501: connect: connection refused\"\n",
            "t=2025-04-23T18:44:53+0900 lvl=warn msg=\"failed to open private leg\" id=5830821bd8d0 privaddr=localhost:8501 err=\"dial tcp 127.0.0.1:8501: connect: connection refused\"\n",
            "t=2025-04-23T18:44:54+0900 lvl=warn msg=\"failed to open private leg\" id=1fdb589ed008 privaddr=localhost:8501 err=\"dial tcp 127.0.0.1:8501: connect: connection refused\"\n",
            "t=2025-04-23T18:44:56+0900 lvl=warn msg=\"failed to open private leg\" id=529507be1c09 privaddr=localhost:8501 err=\"dial tcp 127.0.0.1:8501: connect: connection refused\"\n",
            "t=2025-04-23T18:44:56+0900 lvl=warn msg=\"failed to open private leg\" id=d3a07f843bfc privaddr=localhost:8501 err=\"dial tcp 127.0.0.1:8501: connect: connection refused\"\n",
            "t=2025-04-23T18:45:01+0900 lvl=warn msg=\"failed to open private leg\" id=fbeffebdd60a privaddr=localhost:8501 err=\"dial tcp 127.0.0.1:8501: connect: connection refused\"\n",
            "t=2025-04-23T18:45:01+0900 lvl=warn msg=\"failed to open private leg\" id=29537e4d91d6 privaddr=localhost:8501 err=\"dial tcp 127.0.0.1:8501: connect: connection refused\"\n",
            "t=2025-04-23T18:45:12+0900 lvl=warn msg=\"failed to open private leg\" id=734202c1421b privaddr=localhost:8501 err=\"dial tcp 127.0.0.1:8501: connect: connection refused\"\n",
            "t=2025-04-23T18:45:12+0900 lvl=warn msg=\"failed to open private leg\" id=19eba2c4c0e0 privaddr=localhost:8501 err=\"dial tcp 127.0.0.1:8501: connect: connection refused\"\n"
          ]
        }
      ],
      "source": [
        "# アプリ起動セル (ID: TBQyTTWTELSP) - 修正後\n",
        "from pyngrok import ngrok\n",
        "\n",
        "public_url = ngrok.connect(8501).public_url\n",
        "print(f\"公開URL: {public_url}\")\n",
        "!streamlit run app.py"
      ]
    },
    {
      "cell_type": "markdown",
      "metadata": {},
      "source": [
        "アプリケーションの機能としては、チャット機能や履歴閲覧があります。\n",
        "\n",
        "これらの機能を実現するためには、Streamlit による UI 部分だけではなく、SQLite を使用したチャット履歴の保存や LLM のモデルを呼び出した推論などの処理を組み合わせることで実現しています。\n",
        "\n",
        "- **`app.py`**: アプリケーションのエントリーポイント。チャット機能、履歴閲覧、サンプルデータ管理の UI を提供します。\n",
        "- **`ui.py`**: チャットページや履歴閲覧ページなど、アプリケーションの UI ロジックを管理します。\n",
        "- **`llm.py`**: LLM モデルのロードとテキスト生成を行うモジュール。\n",
        "- **`database.py`**: SQLite データベースを使用してチャット履歴やフィードバックを保存・管理します。\n",
        "- **`metrics.py`**: BLEU スコアやコサイン類似度など、回答の評価指標を計算するモジュール。\n",
        "- **`data.py`**: サンプルデータの作成やデータベースの初期化を行うモジュール。\n",
        "- **`config.py`**: アプリケーションの設定（モデル名やデータベースファイル名）を管理します。\n",
        "- **`requirements.txt`**: このアプリケーションを実行するために必要な Python パッケージ。\n"
      ]
    },
    {
      "cell_type": "markdown",
      "metadata": {
        "id": "Xvm8sWFPELSP"
      },
      "source": [
        "後片付けとして、使う必要のない ngrok のトンネルを削除します。\n"
      ]
    },
    {
      "cell_type": "code",
      "execution_count": 6,
      "metadata": {
        "id": "WFJC2TmZELSP"
      },
      "outputs": [],
      "source": [
        "from pyngrok import ngrok\n",
        "\n",
        "ngrok.kill()"
      ]
    },
    {
      "cell_type": "markdown",
      "metadata": {
        "id": "rUXhIzV7ELSP"
      },
      "source": [
        "# 03_FastAPI\n",
        "\n",
        "ディレクトリ「03_FastAPI」に移動します。\n"
      ]
    },
    {
      "cell_type": "code",
      "execution_count": 10,
      "metadata": {
        "id": "4ejjDLxr3kfC"
      },
      "outputs": [
        {
          "name": "stdout",
          "output_type": "stream",
          "text": [
            "/home/saito/workspace/lecture-ai-engineering/day1/03_FastAPI\n"
          ]
        },
        {
          "name": "stderr",
          "output_type": "stream",
          "text": [
            "/home/saito/.pyenv/versions/3.12.0/lib/python3.12/site-packages/IPython/core/magics/osm.py:393: UserWarning: This is now an optional IPython functionality, using bookmarks requires you to install the `pickleshare` library.\n",
            "  bkms = self.shell.db.get('bookmarks', {})\n",
            "/home/saito/.pyenv/versions/3.12.0/lib/python3.12/site-packages/IPython/core/magics/osm.py:417: UserWarning: This is now an optional IPython functionality, setting dhist requires you to install the `pickleshare` library.\n",
            "  self.shell.db['dhist'] = compress_dhist(dhist)[-100:]\n"
          ]
        }
      ],
      "source": [
        "%cd ~/workspace/lecture-ai-engineering/day1/03_FastAPI"
      ]
    },
    {
      "cell_type": "markdown",
      "metadata": {
        "id": "f45TDsNzELSQ"
      },
      "source": [
        "必要なライブラリをインストールします。\n"
      ]
    },
    {
      "cell_type": "code",
      "execution_count": 11,
      "metadata": {
        "id": "9uv6glCz5a7Z"
      },
      "outputs": [],
      "source": [
        "%%capture\n",
        "!pip install -r requirements.txt"
      ]
    },
    {
      "cell_type": "markdown",
      "metadata": {
        "id": "JfrmE2VmELSQ"
      },
      "source": [
        "ngrok と huggigface のトークンを使用して、認証を行います。\n"
      ]
    },
    {
      "cell_type": "code",
      "execution_count": null,
      "metadata": {
        "id": "ELzWhMFORRIO"
      },
      "outputs": [],
      "source": [
        "!ngrok authtoken $$NGROK_TOKEN\n",
        "!huggingface-cli login --token $$HUGGINGFACE_TOKEN"
      ]
    },
    {
      "cell_type": "markdown",
      "metadata": {
        "id": "t-wztc2CELSQ"
      },
      "source": [
        "アプリを起動します。\n",
        "\n",
        "「02_streamlit_app」から続けて「03_FastAPI」を実行している場合は、モデルのダウンロードが済んでいるため、すぐにサービスが立ち上がります。\n",
        "\n",
        "「03_FastAPI」のみを実行している場合は、初回の起動時にモデルのダウンロードが始まるので、モデルのダウンロードが終わるまで数分間待ちましょう。\n"
      ]
    },
    {
      "cell_type": "code",
      "execution_count": null,
      "metadata": {
        "id": "meQ4SwISn3IQ"
      },
      "outputs": [],
      "source": [
        "!python app.py"
      ]
    },
    {
      "cell_type": "markdown",
      "metadata": {
        "id": "RLubjIhbELSR"
      },
      "source": [
        "FastAPI が起動すると、API とクライアントが通信するための URL（エンドポイント）が作られます。\n",
        "\n",
        "URL が作られるのと合わせて、Swagger UI という Web インターフェースが作られます。\n",
        "\n",
        "Swagger UI にアクセスすることで、API の仕様を確認できたり、API をテストすることができます。\n",
        "\n",
        "Swagger UI を利用することで、API を通して LLM を動かしてみましょう。\n"
      ]
    },
    {
      "cell_type": "markdown",
      "metadata": {
        "id": "XgumW3mGELSR"
      },
      "source": [
        "後片付けとして、使う必要のない ngrok のトンネルを削除します。\n"
      ]
    },
    {
      "cell_type": "code",
      "execution_count": 13,
      "metadata": {
        "id": "RJymTZio-WPJ"
      },
      "outputs": [],
      "source": [
        "from pyngrok import ngrok\n",
        "\n",
        "ngrok.kill()"
      ]
    }
  ],
  "metadata": {
    "colab": {
      "provenance": []
    },
    "kernelspec": {
      "display_name": "llm_venv",
      "language": "python",
      "name": "llm_venv"
    },
    "language_info": {
      "codemirror_mode": {
        "name": "ipython",
        "version": 3
      },
      "file_extension": ".py",
      "mimetype": "text/x-python",
      "name": "python",
      "nbconvert_exporter": "python",
      "pygments_lexer": "ipython3",
      "version": "3.12.0"
    }
  },
  "nbformat": 4,
  "nbformat_minor": 0
}
